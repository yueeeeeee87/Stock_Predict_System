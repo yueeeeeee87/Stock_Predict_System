{
 "cells": [
  {
   "cell_type": "markdown",
   "metadata": {},
   "source": [
    "<h3>Import Packages<h3>"
   ]
  },
  {
   "cell_type": "code",
   "execution_count": 22,
   "metadata": {},
   "outputs": [],
   "source": [
    "import pandas as pd\n",
    "from sqlalchemy.exc import IntegrityError\n",
    "from sqlalchemy import create_engine\n",
    "import numpy as np\n",
    "import tejapi"
   ]
  },
  {
   "cell_type": "markdown",
   "metadata": {},
   "source": [
    "<h3>Import Stock id<h3>"
   ]
  },
  {
   "cell_type": "code",
   "execution_count": 23,
   "metadata": {},
   "outputs": [
    {
     "name": "stdout",
     "output_type": "stream",
     "text": [
      "[[1101]\n",
      " [1102]\n",
      " [1103]\n",
      " ...\n",
      " [9958]\n",
      " [9960]\n",
      " [9962]]\n"
     ]
    }
   ],
   "source": [
    "df= pd.read_csv('stockid.csv')\n",
    "\n",
    "sotck_id = np.array(df)\n",
    "stockid_list=sotck_id.tolist()\n",
    "print(sotck_id)"
   ]
  },
  {
   "cell_type": "markdown",
   "metadata": {},
   "source": [
    "<h3>Connect MySQL<h3>"
   ]
  },
  {
   "cell_type": "code",
   "execution_count": 24,
   "metadata": {},
   "outputs": [],
   "source": [
    "def connect_sql(database,echo):\n",
    "    engine = create_engine(\"mysql+pymysql://root:\")\n",
    "    return engine\n",
    "engine = connect_sql('twse',False)"
   ]
  },
  {
   "cell_type": "markdown",
   "metadata": {},
   "source": [
    "<h3>Import Stock Data From TEJ_api<h3>"
   ]
  },
  {
   "cell_type": "code",
   "execution_count": 25,
   "metadata": {},
   "outputs": [],
   "source": [
    "tejapi.ApiConfig.api_key = \"api_key\""
   ]
  },
  {
   "cell_type": "markdown",
   "metadata": {},
   "source": [
    "<h3>Define Funition That Inserts Data to MySQL<h3>"
   ]
  },
  {
   "cell_type": "code",
   "execution_count": 26,
   "metadata": {},
   "outputs": [],
   "source": [
    "\n",
    "def insertsql(stockid):\n",
    "    coid=stockid\n",
    "    data = tejapi.get('TWN/APRCD1',coid=coid,mdate={'gt':'2006-12-31'},opts={'columns':['mdate','open_adj','close_adj','volume','high_adj','low_adj']})\n",
    "    create = '''create table   '''\n",
    "    stockid = 'id' + coid\n",
    "    text = '''  ( mdate                datetime\n",
    "    ,open_adj             decimal(8,2)\n",
    "    ,close_adj            decimal(8,2)\n",
    "    ,high_adj\t          decimal(8,2)\n",
    "    ,low_adj\t          decimal(8,2)\n",
    "    ,volume\t              decimal(9,0)\n",
    ");'''\n",
    "    sqltext = create + stockid + text\n",
    "    drop = 'drop table IF EXISTS' +' '+ stockid +';'\n",
    "    try:\n",
    "        engine.execute(drop)\n",
    "        engine.execute(sqltext)\n",
    "        \n",
    "    except IntegrityError:\n",
    "        print('table already exists')\n",
    "        \n",
    "    try:\n",
    "        data.to_sql(name=stockid, con=engine, if_exists='append', index=False)\n",
    "    \n",
    "    except IntegrityError:\n",
    "        print('catch duplicate data')"
   ]
  },
  {
   "cell_type": "markdown",
   "metadata": {},
   "source": [
    "<h3>Execute the Loop to Insert Data in MySQL for Each Stock id<h3>"
   ]
  },
  {
   "cell_type": "code",
   "execution_count": null,
   "metadata": {},
   "outputs": [],
   "source": [
    "for i in range(0,1877,1):\n",
    "    id=stockid_list[i]\n",
    "    id=id[0]\n",
    "    id=str(id)\n",
    "    insertsql(id)\n",
    "    print(id)"
   ]
  }
 ],
 "metadata": {
  "kernelspec": {
   "display_name": "Python 3",
   "language": "python",
   "name": "python3"
  },
  "language_info": {
   "codemirror_mode": {
    "name": "ipython",
    "version": 3
   },
   "file_extension": ".py",
   "mimetype": "text/x-python",
   "name": "python",
   "nbconvert_exporter": "python",
   "pygments_lexer": "ipython3",
   "version": "3.8.3"
  }
 },
 "nbformat": 4,
 "nbformat_minor": 4
}
