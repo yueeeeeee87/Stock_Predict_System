{
 "cells": [
  {
   "cell_type": "markdown",
   "metadata": {},
   "source": [
    "<h3>Import Packages<h3>"
   ]
  },
  {
   "cell_type": "code",
   "execution_count": 9,
   "metadata": {},
   "outputs": [],
   "source": [
    "import time\n",
    "import twstock"
   ]
  },
  {
   "cell_type": "markdown",
   "metadata": {},
   "source": [
    "<h3>Get Historical Data from TWstock<h3>"
   ]
  },
  {
   "cell_type": "markdown",
   "metadata": {},
   "source": [
    "Get historical data from package twstock. This example can load historical data for TSMC."
   ]
  },
  {
   "cell_type": "code",
   "execution_count": 17,
   "metadata": {},
   "outputs": [
    {
     "name": "stdout",
     "output_type": "stream",
     "text": [
      "{'code': '2330', 'channel': '2330.tw', 'name': '台積電', 'fullname': '台灣積體電路製造股份有限公司', 'time': '2021-08-20 14:30:00'} 2021-08-20 14:30:00\n"
     ]
    }
   ],
   "source": [
    "stockid = '2330'\n",
    "stock_rt = twstock.realtime.get(stockid)\n",
    "info = stock_rt ['info']\n",
    "time = info['time']\n",
    "print(info,time)"
   ]
  },
  {
   "cell_type": "markdown",
   "metadata": {},
   "source": [
    "<h3>Content<h3>"
   ]
  },
  {
   "cell_type": "markdown",
   "metadata": {},
   "source": [
    "The content includes the company's name and stock historical data within the last 5 trading days."
   ]
  },
  {
   "cell_type": "code",
   "execution_count": 20,
   "metadata": {},
   "outputs": [],
   "source": [
    "content = ''\n",
    "content += '%s (%s) %s\\n' %(\n",
    "    stock_rt['info']['code'],\n",
    "    stock_rt['info']['name'],\n",
    "    time)\n",
    "content += '現價: %s / 開盤: %s\\n'%(\n",
    "    stock_rt['realtime']['latest_trade_price'],\n",
    "    stock_rt['realtime']['open'])\n",
    "content += '最高: %s / 最低: %s\\n' %(\n",
    "    stock_rt['realtime']['high'],\n",
    "    stock_rt['realtime']['low'])\n",
    "content += '量: %s\\n' %(stock_rt['realtime']['accumulate_trade_volume'])\n",
    "\n",
    "stock = twstock.Stock(stockid)#twstock.Stock('2330')\n",
    "content += '-----\\n'\n",
    "content += '最近五日價格: \\n'\n",
    "price5 = stock.price[-5:][::-1]\n",
    "date5 = stock.date[-5:][::-1]\n",
    "\n",
    "#Load stock price in last 5 days\n",
    "for i in range(len(price5)):\n",
    "    #content += '[%s] %s\\n' %(date5[i].strftime(\"%Y-%m-%d %H:%M:%S\"), price5[i])\n",
    "    content += '[%s] %s\\n' %(date5[i].strftime(\"%Y-%m-%d\"), price5[i])\n"
   ]
  },
  {
   "cell_type": "markdown",
   "metadata": {},
   "source": [
    "<h3>Print Historical Data<h3>"
   ]
  },
  {
   "cell_type": "code",
   "execution_count": 14,
   "metadata": {},
   "outputs": [
    {
     "name": "stdout",
     "output_type": "stream",
     "text": [
      "2330 (台積電) 2021-08-20 14:30:00\n",
      "現價: 552.0000 / 開盤: 560.0000\n",
      "最高: 563.0000 / 最低: 551.0000\n",
      "量: 45349\n",
      "-----\n",
      "最近五日價格: \n",
      "[2021-08-20] 552.0\n",
      "[2021-08-19] 559.0\n",
      "[2021-08-18] 574.0\n",
      "[2021-08-17] 580.0\n",
      "[2021-08-16] 584.0\n",
      "\n"
     ]
    }
   ],
   "source": [
    "print(content)"
   ]
  },
  {
   "cell_type": "code",
   "execution_count": null,
   "metadata": {},
   "outputs": [],
   "source": []
  }
 ],
 "metadata": {
  "kernelspec": {
   "display_name": "Python 3",
   "language": "python",
   "name": "python3"
  },
  "language_info": {
   "codemirror_mode": {
    "name": "ipython",
    "version": 3
   },
   "file_extension": ".py",
   "mimetype": "text/x-python",
   "name": "python",
   "nbconvert_exporter": "python",
   "pygments_lexer": "ipython3",
   "version": "3.8.3"
  }
 },
 "nbformat": 4,
 "nbformat_minor": 4
}
